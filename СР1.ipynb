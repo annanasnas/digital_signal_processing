{
  "nbformat": 4,
  "nbformat_minor": 0,
  "metadata": {
    "colab": {
      "name": "СР1.ipynb",
      "provenance": [],
      "collapsed_sections": [],
      "authorship_tag": "ABX9TyMEDRgEx/jwnRPBH1ZKvFlv",
      "include_colab_link": true
    },
    "kernelspec": {
      "name": "python3",
      "display_name": "Python 3"
    },
    "language_info": {
      "name": "python"
    }
  },
  "cells": [
    {
      "cell_type": "markdown",
      "metadata": {
        "id": "view-in-github",
        "colab_type": "text"
      },
      "source": [
        "<a href=\"https://colab.research.google.com/github/annanasnas/digital_signal_processing/blob/main/%D0%A1%D0%A01.ipynb\" target=\"_parent\"><img src=\"https://colab.research.google.com/assets/colab-badge.svg\" alt=\"Open In Colab\"/></a>"
      ]
    },
    {
      "cell_type": "markdown",
      "source": [
        "# **Самостоятельная работа №1**\n",
        "\n",
        "Выполнила: Сюракшина Анастасия БИБ191\n",
        "\n",
        "Номер варианта: 16\n"
      ],
      "metadata": {
        "id": "kbnulo1fv3Pw"
      }
    },
    {
      "cell_type": "markdown",
      "source": [
        "**Задание**\n",
        "\n",
        "Пусть задан амплитудно-модулированный сигнал, в котором несущая\n",
        "задаётся по формуле: \n",
        "\n",
        "$x_1=A*sin(2πf_1t)$, \n",
        "\n",
        "а информационный сигнал: \n",
        "\n",
        "$x_2=B*sin(2πf_2t)$, \n",
        "\n",
        "при этом:\n",
        "\n",
        "$A=15N, B=N, f_1=3k*N, f_2=100N$\n",
        "\n",
        "где N – номер в списке группы.\n",
        "\n",
        "\n",
        "Наложить на АМ-сигнал шум, распределенный по нормальному\n",
        "закону, с амплитудой, сопоставимой с амплитудой самого сигнала.\n",
        "Построить односторонний и двухсторонний спектр сигнала с шумом и без\n",
        "шума при помощи быстрого преобразования Фурье."
      ],
      "metadata": {
        "id": "FHPJ9PANzzx1"
      }
    },
    {
      "cell_type": "markdown",
      "source": [
        "**Решение**"
      ],
      "metadata": {
        "id": "6IKpWbCC72dF"
      }
    },
    {
      "cell_type": "code",
      "source": [
        "!python -m pip install -U numpy scipy matplotlib"
      ],
      "metadata": {
        "id": "fWJa86FO8u0c",
        "outputId": "643f5ea5-c2e6-4d8d-dbd7-c9f449ea4713",
        "colab": {
          "base_uri": "https://localhost:8080/"
        }
      },
      "execution_count": null,
      "outputs": [
        {
          "output_type": "stream",
          "name": "stdout",
          "text": [
            "Requirement already satisfied: numpy in /usr/local/lib/python3.7/dist-packages (1.21.6)\n",
            "Requirement already satisfied: scipy in /usr/local/lib/python3.7/dist-packages (1.4.1)\n",
            "Collecting scipy\n",
            "  Downloading scipy-1.7.3-cp37-cp37m-manylinux_2_12_x86_64.manylinux2010_x86_64.whl (38.1 MB)\n",
            "\u001b[K     |████████████████████████████████| 38.1 MB 62.2 MB/s \n",
            "\u001b[?25hRequirement already satisfied: matplotlib in /usr/local/lib/python3.7/dist-packages (3.2.2)\n",
            "Collecting matplotlib\n",
            "  Downloading matplotlib-3.5.1-cp37-cp37m-manylinux_2_5_x86_64.manylinux1_x86_64.whl (11.2 MB)\n",
            "\u001b[K     |████████████████████████████████| 11.2 MB 34.1 MB/s \n",
            "\u001b[?25hRequirement already satisfied: cycler>=0.10 in /usr/local/lib/python3.7/dist-packages (from matplotlib) (0.11.0)\n",
            "Requirement already satisfied: packaging>=20.0 in /usr/local/lib/python3.7/dist-packages (from matplotlib) (21.3)\n",
            "Requirement already satisfied: pillow>=6.2.0 in /usr/local/lib/python3.7/dist-packages (from matplotlib) (7.1.2)\n",
            "Requirement already satisfied: pyparsing>=2.2.1 in /usr/local/lib/python3.7/dist-packages (from matplotlib) (3.0.8)\n",
            "Requirement already satisfied: kiwisolver>=1.0.1 in /usr/local/lib/python3.7/dist-packages (from matplotlib) (1.4.2)\n",
            "Collecting fonttools>=4.22.0\n",
            "  Downloading fonttools-4.33.3-py3-none-any.whl (930 kB)\n",
            "\u001b[K     |████████████████████████████████| 930 kB 50.3 MB/s \n",
            "\u001b[?25hRequirement already satisfied: python-dateutil>=2.7 in /usr/local/lib/python3.7/dist-packages (from matplotlib) (2.8.2)\n",
            "Requirement already satisfied: typing-extensions in /usr/local/lib/python3.7/dist-packages (from kiwisolver>=1.0.1->matplotlib) (4.2.0)\n",
            "Requirement already satisfied: six>=1.5 in /usr/local/lib/python3.7/dist-packages (from python-dateutil>=2.7->matplotlib) (1.15.0)\n",
            "Installing collected packages: fonttools, scipy, matplotlib\n",
            "  Attempting uninstall: scipy\n",
            "    Found existing installation: scipy 1.4.1\n",
            "    Uninstalling scipy-1.4.1:\n"
          ]
        }
      ]
    },
    {
      "cell_type": "code",
      "source": [
        "import numpy, scipy, matplotlib"
      ],
      "metadata": {
        "id": "JQEF2jF_8I-A"
      },
      "execution_count": null,
      "outputs": []
    },
    {
      "cell_type": "code",
      "execution_count": null,
      "metadata": {
        "id": "l3Z6g1nzv1TZ"
      },
      "outputs": [],
      "source": [
        "N = 16\n",
        "A = 15 * N\n",
        "B = N\n",
        "f1 = 3 * 10^3 * N\n",
        "f2 = 100 * N"
      ]
    },
    {
      "cell_type": "code",
      "source": [
        ""
      ],
      "metadata": {
        "id": "acl_vB6P79o-"
      },
      "execution_count": null,
      "outputs": []
    }
  ]
}